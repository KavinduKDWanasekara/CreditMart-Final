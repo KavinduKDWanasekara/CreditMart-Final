{
 "cells": [
  {
   "cell_type": "code",
   "execution_count": 1,
   "metadata": {},
   "outputs": [],
   "source": [
    "import pandas as pd\n",
    "import numpy as np\n",
    "import seaborn as sns"
   ]
  },
  {
   "cell_type": "code",
   "execution_count": 2,
   "metadata": {},
   "outputs": [],
   "source": [
    "data=pd.read_csv(\"2014_Financial_Data.csv\")"
   ]
  },
  {
   "cell_type": "code",
   "execution_count": 3,
   "metadata": {},
   "outputs": [],
   "source": [
    "df = pd.DataFrame(data)"
   ]
  },
  {
   "cell_type": "code",
   "execution_count": 4,
   "metadata": {},
   "outputs": [],
   "source": [
    "df = df.interpolate()\n",
    "df_updated = df.interpolate()"
   ]
  },
  {
   "cell_type": "code",
   "execution_count": 5,
   "metadata": {},
   "outputs": [],
   "source": [
    "columnList=list(df.columns)"
   ]
  },
  {
   "cell_type": "code",
   "execution_count": 6,
   "metadata": {},
   "outputs": [
    {
     "name": "stdout",
     "output_type": "stream",
     "text": [
      "Revenue exists in the list\n",
      "Interest Expense exists in the list\n",
      "Net Income exists in the list\n",
      "EBIT exists in the list\n",
      "Net Profit Margin exists in the list\n",
      "Cash and cash equivalents exists in the list\n",
      "Total current assets exists in the list\n",
      "Total assets exists in the list\n",
      "Total current liabilities exists in the list\n",
      "Long-term debt exists in the list\n",
      "Total debt exists in the list\n",
      "Total liabilities exists in the list\n",
      "Total shareholders equity exists in the list\n",
      "Investment purchases and sales exists in the list\n",
      "returnOnEquity exists in the list\n",
      "Working Capital exists in the list\n",
      "Receivables Turnover exists in the list\n"
     ]
    }
   ],
   "source": [
    "usedColumnList=['Total current assets','Total current liabilities','Working Capital','Total assets','Cash and cash equivalents',\n",
    "                'Net Income','returnOnEquity','Receivables Turnover','EBIT','Total debt','Total shareholders equity',\n",
    "               'Interest Expense','Total liabilities','Total shareholders equity','Long-term debt','Total liabilities','Revenue','Net Profit Margin',\n",
    "               'Investment purchases and sales','Investment purchases and sales']\n",
    "\n",
    "for item in columnList:\n",
    "    if(item not in usedColumnList):\n",
    "        #df = df.drop(columns=item)\n",
    "        del df_updated[item]\n",
    "    else:\n",
    "        print(item,\"exists in the list\")"
   ]
  },
  {
   "cell_type": "code",
   "execution_count": 7,
   "metadata": {},
   "outputs": [],
   "source": [
    "#Altmans Z-Score = 1.2A + 1.4B + 3.3C + 0.6D + 1.0E\n",
    "'''\n",
    "A = working capital / total assets\n",
    "B = retained earnings / total assets\n",
    "C = earnings before interest and tax / total assets\n",
    "D = market value of equity / total liabilities\n",
    "E = sales / total assets\n",
    "'''\n",
    "\n",
    "score = 1.2*(df[\"Working Capital\"]/df[\"Total assets\"]) \n",
    "+ 1.4*(df[\"Retained earnings (deficit)\"]/df[\"Total assets\"])\n",
    "+ 3.3*(df[\"EBIT\"]/df[\"Total assets\"])\n",
    "+ 0.6*(1/df[\"Debt to Equity\"])\n",
    "+ 1.0*(df[\"assetTurnover\"])\n",
    "\n",
    "df_updated[\"PD\"] = 1/(1+np.exp(-score))"
   ]
  },
  {
   "cell_type": "code",
   "execution_count": 8,
   "metadata": {},
   "outputs": [],
   "source": [
    "\n",
    "df_indictors =pd.DataFrame()\n",
    "df_indictors[\"indicator01\"] = df['Total current assets']/df['Total current liabilities']\n",
    "df_indictors[\"indicator02\"] = df['Working Capital']/df['Total assets']\n",
    "df_indictors[\"indicator03\"] = df['Total current liabilities']/df['Total assets']\n",
    "df_indictors[\"indicator04\"] = (df['Revenue']*df['Net Profit Margin'])/df['Investment purchases and sales']\n",
    "df_indictors[\"indicator05\"] = df['Cash and cash equivalents']/df['Total current liabilities']\n",
    "df_indictors[\"indicator06\"] = (df['Total liabilities'] - df['Cash and cash equivalents']) / df['Investment purchases and sales']\n",
    "df_indictors[\"indicator07\"] = df['Net Income']/ df['returnOnEquity']\n",
    "df_indictors[\"indicator08\"] = df['Net Income'] / df['Receivables Turnover']\n",
    "df_indictors[\"indicator09\"] = df['EBIT'] / df['Total assets']\n",
    "df_indictors[\"indicator10\"] = df['Total debt'] / df['Total shareholders equity']\n",
    "df_indictors[\"indicator11\"] = df['Total debt']/ df['Total assets']\n",
    "df_indictors[\"indicator12\"] = df['EBIT'] / df['Interest Expense']\n",
    "df_indictors[\"indicator13\"] = df['Total liabilities'] / df['Total assets']\n",
    "df_indictors[\"indicator14\"] = df['Total shareholders equity'] / df['Total assets']\n",
    "df_indictors[\"indicator15\"] = df['Long-term debt'] / df['Total assets']\n",
    "#df_indictors[\"indicator16\"] = df['Total debt'] / df['Total assets']\n",
    "df_indictors[\"indicator17\"] = df['Total debt'] / df['Total current assets']\n",
    "df_indictors[\"indicator18\"] = df['Total debt'] / (df['Total assets']-df['Total debt'])\n",
    "df_indictors[\"indicator19\"] = df['Total debt']  / df['Total liabilities']\n",
    "df_indictors[\"indicator20\"] = df['EBIT'] / df['Total assets']\n",
    "df_indictors[\"indicator21\"] =(df['Total current assets'] - df['Average Inventory'] - df['Receivables']) / df['Total current liabilities']\n",
    "#df_indictors[\"indicator22\"] = total liabilities / ((profit on operating activities + depreciation) * (12/365))"
   ]
  },
  {
   "cell_type": "code",
   "execution_count": 9,
   "metadata": {},
   "outputs": [
    {
     "data": {
      "text/html": [
       "<div>\n",
       "<style scoped>\n",
       "    .dataframe tbody tr th:only-of-type {\n",
       "        vertical-align: middle;\n",
       "    }\n",
       "\n",
       "    .dataframe tbody tr th {\n",
       "        vertical-align: top;\n",
       "    }\n",
       "\n",
       "    .dataframe thead th {\n",
       "        text-align: right;\n",
       "    }\n",
       "</style>\n",
       "<table border=\"1\" class=\"dataframe\">\n",
       "  <thead>\n",
       "    <tr style=\"text-align: right;\">\n",
       "      <th></th>\n",
       "      <th>indicator01</th>\n",
       "      <th>indicator02</th>\n",
       "      <th>indicator03</th>\n",
       "      <th>indicator04</th>\n",
       "      <th>indicator05</th>\n",
       "      <th>indicator06</th>\n",
       "      <th>indicator07</th>\n",
       "      <th>indicator08</th>\n",
       "      <th>indicator09</th>\n",
       "      <th>indicator10</th>\n",
       "      <th>...</th>\n",
       "      <th>indicator13</th>\n",
       "      <th>indicator14</th>\n",
       "      <th>indicator15</th>\n",
       "      <th>indicator17</th>\n",
       "      <th>indicator18</th>\n",
       "      <th>indicator19</th>\n",
       "      <th>indicator20</th>\n",
       "      <th>indicator21</th>\n",
       "      <th>PD</th>\n",
       "      <th>class</th>\n",
       "    </tr>\n",
       "  </thead>\n",
       "  <tbody>\n",
       "    <tr>\n",
       "      <th>0</th>\n",
       "      <td>0.937467</td>\n",
       "      <td>-0.014619</td>\n",
       "      <td>0.233776</td>\n",
       "      <td>-14.464294</td>\n",
       "      <td>0.253751</td>\n",
       "      <td>-81.654658</td>\n",
       "      <td>6.996995e+10</td>\n",
       "      <td>1.008891e+09</td>\n",
       "      <td>0.105382</td>\n",
       "      <td>0.506131</td>\n",
       "      <td>...</td>\n",
       "      <td>0.514952</td>\n",
       "      <td>0.485048</td>\n",
       "      <td>0.137323</td>\n",
       "      <td>1.120189</td>\n",
       "      <td>0.325377</td>\n",
       "      <td>0.476740</td>\n",
       "      <td>0.105382</td>\n",
       "      <td>0.545484</td>\n",
       "      <td>0.495614</td>\n",
       "      <td>0</td>\n",
       "    </tr>\n",
       "    <tr>\n",
       "      <th>1</th>\n",
       "      <td>1.301829</td>\n",
       "      <td>1.120027</td>\n",
       "      <td>0.599095</td>\n",
       "      <td>-0.639202</td>\n",
       "      <td>0.471789</td>\n",
       "      <td>-7.183715</td>\n",
       "      <td>4.123337e+08</td>\n",
       "      <td>2.654496e+06</td>\n",
       "      <td>0.068525</td>\n",
       "      <td>1.509318</td>\n",
       "      <td>...</td>\n",
       "      <td>0.840832</td>\n",
       "      <td>0.150677</td>\n",
       "      <td>0.227419</td>\n",
       "      <td>0.291592</td>\n",
       "      <td>0.294362</td>\n",
       "      <td>0.270469</td>\n",
       "      <td>0.068525</td>\n",
       "      <td>-2.435778</td>\n",
       "      <td>0.793152</td>\n",
       "      <td>1</td>\n",
       "    </tr>\n",
       "    <tr>\n",
       "      <th>3</th>\n",
       "      <td>1.708956</td>\n",
       "      <td>0.255969</td>\n",
       "      <td>0.361051</td>\n",
       "      <td>6.078456</td>\n",
       "      <td>0.058388</td>\n",
       "      <td>216.551257</td>\n",
       "      <td>-2.113678e+09</td>\n",
       "      <td>9.177426e+06</td>\n",
       "      <td>0.097167</td>\n",
       "      <td>-2.723725</td>\n",
       "      <td>...</td>\n",
       "      <td>1.304354</td>\n",
       "      <td>-0.304354</td>\n",
       "      <td>0.821897</td>\n",
       "      <td>1.343518</td>\n",
       "      <td>4.847190</td>\n",
       "      <td>0.635546</td>\n",
       "      <td>0.097167</td>\n",
       "      <td>0.104376</td>\n",
       "      <td>0.576193</td>\n",
       "      <td>1</td>\n",
       "    </tr>\n",
       "    <tr>\n",
       "      <th>4</th>\n",
       "      <td>0.810086</td>\n",
       "      <td>-0.044501</td>\n",
       "      <td>0.234320</td>\n",
       "      <td>62.286288</td>\n",
       "      <td>0.159915</td>\n",
       "      <td>487.675768</td>\n",
       "      <td>6.534384e+09</td>\n",
       "      <td>1.492352e+08</td>\n",
       "      <td>0.130050</td>\n",
       "      <td>1.344463</td>\n",
       "      <td>...</td>\n",
       "      <td>0.654817</td>\n",
       "      <td>0.282333</td>\n",
       "      <td>0.277525</td>\n",
       "      <td>1.999727</td>\n",
       "      <td>0.611829</td>\n",
       "      <td>0.579684</td>\n",
       "      <td>0.130050</td>\n",
       "      <td>0.250290</td>\n",
       "      <td>0.486653</td>\n",
       "      <td>0</td>\n",
       "    </tr>\n",
       "    <tr>\n",
       "      <th>5</th>\n",
       "      <td>1.024616</td>\n",
       "      <td>0.010572</td>\n",
       "      <td>0.429477</td>\n",
       "      <td>-258.272793</td>\n",
       "      <td>0.111302</td>\n",
       "      <td>-1541.655172</td>\n",
       "      <td>-1.262936e+10</td>\n",
       "      <td>3.674660e+08</td>\n",
       "      <td>0.330861</td>\n",
       "      <td>-2.332330</td>\n",
       "      <td>...</td>\n",
       "      <td>1.318385</td>\n",
       "      <td>-0.358911</td>\n",
       "      <td>0.765311</td>\n",
       "      <td>1.902286</td>\n",
       "      <td>5.138695</td>\n",
       "      <td>0.634943</td>\n",
       "      <td>0.330861</td>\n",
       "      <td>0.149616</td>\n",
       "      <td>0.503172</td>\n",
       "      <td>1</td>\n",
       "    </tr>\n",
       "    <tr>\n",
       "      <th>...</th>\n",
       "      <td>...</td>\n",
       "      <td>...</td>\n",
       "      <td>...</td>\n",
       "      <td>...</td>\n",
       "      <td>...</td>\n",
       "      <td>...</td>\n",
       "      <td>...</td>\n",
       "      <td>...</td>\n",
       "      <td>...</td>\n",
       "      <td>...</td>\n",
       "      <td>...</td>\n",
       "      <td>...</td>\n",
       "      <td>...</td>\n",
       "      <td>...</td>\n",
       "      <td>...</td>\n",
       "      <td>...</td>\n",
       "      <td>...</td>\n",
       "      <td>...</td>\n",
       "      <td>...</td>\n",
       "      <td>...</td>\n",
       "      <td>...</td>\n",
       "    </tr>\n",
       "    <tr>\n",
       "      <th>3775</th>\n",
       "      <td>1.182777</td>\n",
       "      <td>0.100211</td>\n",
       "      <td>0.548268</td>\n",
       "      <td>-1.013447</td>\n",
       "      <td>0.275521</td>\n",
       "      <td>-7.174277</td>\n",
       "      <td>2.046512e+07</td>\n",
       "      <td>4.691135e+05</td>\n",
       "      <td>0.100334</td>\n",
       "      <td>0.003274</td>\n",
       "      <td>...</td>\n",
       "      <td>0.575994</td>\n",
       "      <td>0.422499</td>\n",
       "      <td>0.000888</td>\n",
       "      <td>0.002133</td>\n",
       "      <td>0.001385</td>\n",
       "      <td>0.002401</td>\n",
       "      <td>0.100334</td>\n",
       "      <td>0.376125</td>\n",
       "      <td>0.530027</td>\n",
       "      <td>1</td>\n",
       "    </tr>\n",
       "    <tr>\n",
       "      <th>3781</th>\n",
       "      <td>2.928335</td>\n",
       "      <td>0.335052</td>\n",
       "      <td>0.173752</td>\n",
       "      <td>-11.242736</td>\n",
       "      <td>1.021930</td>\n",
       "      <td>7.912886</td>\n",
       "      <td>7.700621e+07</td>\n",
       "      <td>-1.417497e+06</td>\n",
       "      <td>-0.078593</td>\n",
       "      <td>0.085714</td>\n",
       "      <td>...</td>\n",
       "      <td>0.221629</td>\n",
       "      <td>0.778371</td>\n",
       "      <td>0.031848</td>\n",
       "      <td>0.131126</td>\n",
       "      <td>0.071487</td>\n",
       "      <td>0.301031</td>\n",
       "      <td>-0.078593</td>\n",
       "      <td>0.507126</td>\n",
       "      <td>0.599183</td>\n",
       "      <td>1</td>\n",
       "    </tr>\n",
       "    <tr>\n",
       "      <th>3787</th>\n",
       "      <td>14.844950</td>\n",
       "      <td>0.408659</td>\n",
       "      <td>0.029517</td>\n",
       "      <td>7.206332</td>\n",
       "      <td>4.264905</td>\n",
       "      <td>2.979525</td>\n",
       "      <td>1.885684e+08</td>\n",
       "      <td>-5.726764e+06</td>\n",
       "      <td>-0.224826</td>\n",
       "      <td>0.000000</td>\n",
       "      <td>...</td>\n",
       "      <td>0.032559</td>\n",
       "      <td>0.967441</td>\n",
       "      <td>0.000000</td>\n",
       "      <td>0.000000</td>\n",
       "      <td>0.000000</td>\n",
       "      <td>0.000000</td>\n",
       "      <td>-0.224826</td>\n",
       "      <td>6.637233</td>\n",
       "      <td>0.620198</td>\n",
       "      <td>1</td>\n",
       "    </tr>\n",
       "    <tr>\n",
       "      <th>3792</th>\n",
       "      <td>2.581006</td>\n",
       "      <td>0.510551</td>\n",
       "      <td>0.322928</td>\n",
       "      <td>-59.595954</td>\n",
       "      <td>1.149237</td>\n",
       "      <td>11.732323</td>\n",
       "      <td>1.490149e+07</td>\n",
       "      <td>-2.517335e+06</td>\n",
       "      <td>-0.428806</td>\n",
       "      <td>0.000000</td>\n",
       "      <td>...</td>\n",
       "      <td>0.455933</td>\n",
       "      <td>0.544067</td>\n",
       "      <td>0.000000</td>\n",
       "      <td>0.000000</td>\n",
       "      <td>0.000000</td>\n",
       "      <td>0.000000</td>\n",
       "      <td>-0.428806</td>\n",
       "      <td>1.637196</td>\n",
       "      <td>0.648548</td>\n",
       "      <td>1</td>\n",
       "    </tr>\n",
       "    <tr>\n",
       "      <th>3795</th>\n",
       "      <td>0.642980</td>\n",
       "      <td>-0.285955</td>\n",
       "      <td>0.800951</td>\n",
       "      <td>-7.634373</td>\n",
       "      <td>0.165852</td>\n",
       "      <td>298.383236</td>\n",
       "      <td>1.351689e+08</td>\n",
       "      <td>-3.762968e+06</td>\n",
       "      <td>0.009009</td>\n",
       "      <td>5.865254</td>\n",
       "      <td>...</td>\n",
       "      <td>0.919020</td>\n",
       "      <td>0.080980</td>\n",
       "      <td>0.082714</td>\n",
       "      <td>0.922277</td>\n",
       "      <td>0.904648</td>\n",
       "      <td>0.516821</td>\n",
       "      <td>0.009009</td>\n",
       "      <td>0.290699</td>\n",
       "      <td>0.415045</td>\n",
       "      <td>0</td>\n",
       "    </tr>\n",
       "  </tbody>\n",
       "</table>\n",
       "<p>1355 rows × 22 columns</p>\n",
       "</div>"
      ],
      "text/plain": [
       "      indicator01  indicator02  indicator03  indicator04  indicator05  \\\n",
       "0        0.937467    -0.014619     0.233776   -14.464294     0.253751   \n",
       "1        1.301829     1.120027     0.599095    -0.639202     0.471789   \n",
       "3        1.708956     0.255969     0.361051     6.078456     0.058388   \n",
       "4        0.810086    -0.044501     0.234320    62.286288     0.159915   \n",
       "5        1.024616     0.010572     0.429477  -258.272793     0.111302   \n",
       "...           ...          ...          ...          ...          ...   \n",
       "3775     1.182777     0.100211     0.548268    -1.013447     0.275521   \n",
       "3781     2.928335     0.335052     0.173752   -11.242736     1.021930   \n",
       "3787    14.844950     0.408659     0.029517     7.206332     4.264905   \n",
       "3792     2.581006     0.510551     0.322928   -59.595954     1.149237   \n",
       "3795     0.642980    -0.285955     0.800951    -7.634373     0.165852   \n",
       "\n",
       "      indicator06   indicator07   indicator08  indicator09  indicator10  ...  \\\n",
       "0      -81.654658  6.996995e+10  1.008891e+09     0.105382     0.506131  ...   \n",
       "1       -7.183715  4.123337e+08  2.654496e+06     0.068525     1.509318  ...   \n",
       "3      216.551257 -2.113678e+09  9.177426e+06     0.097167    -2.723725  ...   \n",
       "4      487.675768  6.534384e+09  1.492352e+08     0.130050     1.344463  ...   \n",
       "5    -1541.655172 -1.262936e+10  3.674660e+08     0.330861    -2.332330  ...   \n",
       "...           ...           ...           ...          ...          ...  ...   \n",
       "3775    -7.174277  2.046512e+07  4.691135e+05     0.100334     0.003274  ...   \n",
       "3781     7.912886  7.700621e+07 -1.417497e+06    -0.078593     0.085714  ...   \n",
       "3787     2.979525  1.885684e+08 -5.726764e+06    -0.224826     0.000000  ...   \n",
       "3792    11.732323  1.490149e+07 -2.517335e+06    -0.428806     0.000000  ...   \n",
       "3795   298.383236  1.351689e+08 -3.762968e+06     0.009009     5.865254  ...   \n",
       "\n",
       "      indicator13  indicator14  indicator15  indicator17  indicator18  \\\n",
       "0        0.514952     0.485048     0.137323     1.120189     0.325377   \n",
       "1        0.840832     0.150677     0.227419     0.291592     0.294362   \n",
       "3        1.304354    -0.304354     0.821897     1.343518     4.847190   \n",
       "4        0.654817     0.282333     0.277525     1.999727     0.611829   \n",
       "5        1.318385    -0.358911     0.765311     1.902286     5.138695   \n",
       "...           ...          ...          ...          ...          ...   \n",
       "3775     0.575994     0.422499     0.000888     0.002133     0.001385   \n",
       "3781     0.221629     0.778371     0.031848     0.131126     0.071487   \n",
       "3787     0.032559     0.967441     0.000000     0.000000     0.000000   \n",
       "3792     0.455933     0.544067     0.000000     0.000000     0.000000   \n",
       "3795     0.919020     0.080980     0.082714     0.922277     0.904648   \n",
       "\n",
       "      indicator19  indicator20  indicator21        PD  class  \n",
       "0        0.476740     0.105382     0.545484  0.495614      0  \n",
       "1        0.270469     0.068525    -2.435778  0.793152      1  \n",
       "3        0.635546     0.097167     0.104376  0.576193      1  \n",
       "4        0.579684     0.130050     0.250290  0.486653      0  \n",
       "5        0.634943     0.330861     0.149616  0.503172      1  \n",
       "...           ...          ...          ...       ...    ...  \n",
       "3775     0.002401     0.100334     0.376125  0.530027      1  \n",
       "3781     0.301031    -0.078593     0.507126  0.599183      1  \n",
       "3787     0.000000    -0.224826     6.637233  0.620198      1  \n",
       "3792     0.000000    -0.428806     1.637196  0.648548      1  \n",
       "3795     0.516821     0.009009     0.290699  0.415045      0  \n",
       "\n",
       "[1355 rows x 22 columns]"
      ]
     },
     "execution_count": 9,
     "metadata": {},
     "output_type": "execute_result"
    }
   ],
   "source": [
    "df_indictors = df_indictors[np.isfinite(df_indictors).all(1)]\n",
    "score = 1.2*(df[\"Working Capital\"]/df[\"Total assets\"]) \n",
    "+ 1.4*(df[\"Retained earnings (deficit)\"]/df[\"Total assets\"])\n",
    "+ 3.3*(df[\"EBIT\"]/df[\"Total assets\"])\n",
    "+ 0.6*(1/df[\"Debt to Equity\"])\n",
    "+ 1.0*(df[\"assetTurnover\"])\n",
    "\n",
    "df_indictors[\"PD\"] = 1/(1+np.exp(-score))\n",
    "\n",
    "df_indictors.loc[df_indictors['PD'] >0.5, 'class'] = '1' \n",
    "df_indictors.loc[df_indictors['PD'] <=0.5, 'class'] = '0'\n",
    "df_indictors"
   ]
  },
  {
   "cell_type": "code",
   "execution_count": 10,
   "metadata": {},
   "outputs": [],
   "source": [
    "import matplotlib.pyplot as plt "
   ]
  },
  {
   "cell_type": "code",
   "execution_count": 11,
   "metadata": {},
   "outputs": [
    {
     "data": {
      "image/png": "[encoded data removed]",
      "text/plain": [
       "<Figure size 576x864 with 2 Axes>"
      ]
     },
     "metadata": {
      "needs_background": "light"
     },
     "output_type": "display_data"
    }
   ],
   "source": [
    "plt.figure(figsize=(8, 12))\n",
    "\n",
    "heatmap = sns.heatmap(df_indictors.corr()[['PD']].sort_values(by='PD', ascending=False), vmin=-1, vmax=1, annot=True, cmap='BrBG')\n",
    "\n",
    "heatmap.set_title('Features Correlating with PD', fontdict={'fontsize':18}, pad=16);"
   ]
  },
  {
   "cell_type": "code",
   "execution_count": 12,
   "metadata": {},
   "outputs": [],
   "source": [
    "from sklearn.model_selection import train_test_split\n",
    "\n",
    "Y = df_indictors[\"class\"]\n",
    "X = df_indictors.drop([\"class\",\"PD\"], axis=1)\n",
    "\n",
    "X_train, X_test, y_train, y_test = train_test_split(X, Y, test_size=0.3)"
   ]
  },
  {
   "cell_type": "code",
   "execution_count": 13,
   "metadata": {},
   "outputs": [],
   "source": [
    "from sklearn.preprocessing import StandardScaler"
   ]
  },
  {
   "cell_type": "code",
   "execution_count": 14,
   "metadata": {},
   "outputs": [],
   "source": [
    "X_scaler = StandardScaler().fit(X_train)"
   ]
  },
  {
   "cell_type": "code",
   "execution_count": 15,
   "metadata": {},
   "outputs": [],
   "source": [
    "X_train_scaled = X_scaler.transform(X_train)\n",
    "X_test_scaled = X_scaler.transform(X_test)"
   ]
  },
  {
   "cell_type": "code",
   "execution_count": 16,
   "metadata": {},
   "outputs": [],
   "source": [
    "from sklearn.ensemble import RandomForestClassifier"
   ]
  },
  {
   "cell_type": "code",
   "execution_count": 17,
   "metadata": {},
   "outputs": [
    {
     "data": {
      "text/plain": [
       "RandomForestClassifier(n_estimators=200)"
      ]
     },
     "execution_count": 17,
     "metadata": {},
     "output_type": "execute_result"
    }
   ],
   "source": [
    "rf = RandomForestClassifier(n_estimators=200)\n",
    "rf.fit(X_train_scaled,y_train)"
   ]
  },
  {
   "cell_type": "code",
   "execution_count": 18,
   "metadata": {},
   "outputs": [],
   "source": [
    "features_names = df_indictors.columns"
   ]
  },
  {
   "cell_type": "code",
   "execution_count": 19,
   "metadata": {},
   "outputs": [
    {
     "data": {
      "text/plain": [
       "[(0.48364666431786635, 'indicator02'),\n",
       " (0.28456820760496504, 'indicator01'),\n",
       " (0.046307525824469856, 'indicator21'),\n",
       " (0.03237710499189865, 'indicator17'),\n",
       " (0.029855084320714168, 'indicator05'),\n",
       " (0.015558644320547458, 'indicator03'),\n",
       " (0.012463949227678496, 'indicator19'),\n",
       " (0.010388177612911982, 'indicator14'),\n",
       " (0.010387975667114954, 'indicator07'),\n",
       " (0.009738672546546668, 'indicator10'),\n",
       " (0.007956472956269571, 'indicator18'),\n",
       " (0.007800543102756154, 'indicator11'),\n",
       " (0.007679964391082685, 'indicator13'),\n",
       " (0.007472077187249044, 'indicator12'),\n",
       " (0.006202791402284681, 'indicator15'),\n",
       " (0.006096875934918427, 'indicator08'),\n",
       " (0.006016923936856048, 'indicator09'),\n",
       " (0.005688880649975775, 'indicator20'),\n",
       " (0.005074856014717522, 'indicator04'),\n",
       " (0.004718607989176601, 'indicator06')]"
      ]
     },
     "execution_count": 19,
     "metadata": {},
     "output_type": "execute_result"
    }
   ],
   "source": [
    "sorted(zip(rf.feature_importances_, features_names), reverse=True) "
   ]
  },
  {
   "cell_type": "code",
   "execution_count": 20,
   "metadata": {},
   "outputs": [
    {
     "data": {
      "image/png": "[encoded data removed]",
      "text/plain": [
       "<Figure size 864x432 with 1 Axes>"
      ]
     },
     "metadata": {
      "needs_background": "light"
     },
     "output_type": "display_data"
    }
   ],
   "source": [
    "## plot the importances ##\n",
    "import matplotlib.pyplot as plt\n",
    "importances = rf.feature_importances_\n",
    "\n",
    "\n",
    "indices = np.argsort(importances)[::-1]\n",
    "plt.figure(figsize=(12,6))\n",
    "plt.title(\"Feature importances by DecisionTreeClassifier\")\n",
    "plt.bar(range(len(indices)), importances[indices], color='lightblue',  align=\"center\")\n",
    "plt.step(range(len(indices)), np.cumsum(importances[indices]), where='mid', label='Cumulative')\n",
    "plt.xticks(range(len(indices)), features_names[indices], rotation='vertical',fontsize=14)\n",
    "plt.xlim([-1, len(indices)])\n",
    "plt.show()"
   ]
  },
  {
   "cell_type": "code",
   "execution_count": 21,
   "metadata": {},
   "outputs": [],
   "source": [
    "from sklearn.metrics import precision_recall_fscore_support\n",
    "from sklearn.metrics import recall_score\n",
    "from sklearn.metrics import classification_report"
   ]
  },
  {
   "cell_type": "code",
   "execution_count": 22,
   "metadata": {},
   "outputs": [
    {
     "data": {
      "text/plain": [
       "0.87"
      ]
     },
     "execution_count": 22,
     "metadata": {},
     "output_type": "execute_result"
    }
   ],
   "source": [
    "#Make my predictions\n",
    "y_prediction = rf.predict(X_test)\n",
    "y_probability = rf.predict_proba(X_test)\n",
    "y_probability[0][1]"
   ]
  },
  {
   "cell_type": "code",
   "execution_count": 23,
   "metadata": {},
   "outputs": [
    {
     "name": "stdout",
     "output_type": "stream",
     "text": [
      "              precision    recall  f1-score   support\n",
      "\n",
      " non_default       1.00      0.54      0.70        63\n",
      "     default       0.92      1.00      0.96       344\n",
      "\n",
      "    accuracy                           0.93       407\n",
      "   macro avg       0.96      0.77      0.83       407\n",
      "weighted avg       0.93      0.93      0.92       407\n",
      "\n"
     ]
    }
   ],
   "source": [
    "print(classification_report(y_test, y_prediction,\n",
    "                            target_names=[\"non_default\", \"default\"]))"
   ]
  },
  {
   "cell_type": "code",
   "execution_count": 24,
   "metadata": {},
   "outputs": [],
   "source": [
    "from sklearn.metrics import confusion_matrix\n",
    "import itertools\n",
    "import matplotlib\n",
    "import numpy as np\n",
    "import matplotlib.pyplot as plt\n",
    "%matplotlib inline  \n",
    "import numpy as np"
   ]
  },
  {
   "cell_type": "code",
   "execution_count": 25,
   "metadata": {},
   "outputs": [],
   "source": [
    "def plot_confusion_matrix(cm, classes,\n",
    "                          normalize=False,\n",
    "                          title='Confusion matrix',\n",
    "                          cmap=plt.cm.Blues):\n",
    "    if normalize:\n",
    "        cm = cm.astype('float') / cm.sum(axis=1)[:, np.newaxis]\n",
    "        print(\"Normalized confusion matrix\")\n",
    "    else:\n",
    "        print('Confusion matrix, without normalization')\n",
    "\n",
    "    print(cm)\n",
    "    \n",
    "    plt.imshow(cm, interpolation='nearest', cmap=cmap)\n",
    "    plt.title(title)\n",
    "    plt.colorbar()\n",
    "    tick_marks = np.arange(len(classes))\n",
    "    plt.xticks(tick_marks, classes, rotation=45)\n",
    "    plt.yticks(tick_marks, classes)\n",
    "\n",
    "    fmt = '.2f' if normalize else 'd'\n",
    "    thresh = cm.max() / 2.\n",
    "    for i, j in itertools.product(range(cm.shape[0]), range(cm.shape[1])):\n",
    "        plt.text(j, i, format(cm[i, j], fmt),\n",
    "                 horizontalalignment=\"center\",\n",
    "                 color=\"white\" if cm[i, j] > thresh else \"black\")\n",
    "    "
   ]
  },
  {
   "cell_type": "code",
   "execution_count": 26,
   "metadata": {},
   "outputs": [
    {
     "name": "stdout",
     "output_type": "stream",
     "text": [
      "Confusion matrix, without normalization\n",
      "[[ 34  29]\n",
      " [  0 344]]\n"
     ]
    },
    {
     "data": {
      "image/png": "[encoded data removed]",
      "text/plain": [
       "<Figure size 432x288 with 2 Axes>"
      ]
     },
     "metadata": {
      "needs_background": "light"
     },
     "output_type": "display_data"
    }
   ],
   "source": [
    "cnf_matrix = confusion_matrix(y_test, y_prediction)\n",
    "plt.figure()\n",
    "plot_confusion_matrix(cnf_matrix, classes=['Non_Default', 'Default'], normalize=False,\n",
    "                      title='Non Normalized confusion matrix')"
   ]
  },
  {
   "cell_type": "code",
   "execution_count": 27,
   "metadata": {},
   "outputs": [
    {
     "name": "stdout",
     "output_type": "stream",
     "text": [
      "Normalized confusion matrix\n",
      "[[0.53968254 0.46031746]\n",
      " [0.         1.        ]]\n"
     ]
    },
    {
     "data": {
      "image/png": "[encoded data removed]",
      "text/plain": [
       "<Figure size 432x288 with 2 Axes>"
      ]
     },
     "metadata": {
      "needs_background": "light"
     },
     "output_type": "display_data"
    }
   ],
   "source": [
    "plt.figure()\n",
    "plot_confusion_matrix(cnf_matrix, classes=['Defualt', 'Non_default'], normalize=True,\n",
    "                      title='Normalized confusion matrix')"
   ]
  },
  {
   "cell_type": "code",
   "execution_count": 34,
   "metadata": {},
   "outputs": [],
   "source": [
    "import pickle\n",
    "with open('probability_of_default_model.pkl', 'wb') as file:  \n",
    "    pickle.dump(rf, file)\n",
    "\n",
    "with open('scaler.pkl', 'wb') as file:  \n",
    "    pickle.dump(rf, file)\n",
    "    \n",
    "#filename = 'probability_of_default_model.sav'\n",
    "#pickle.dump(rf, open(filename, 'wb'))"
   ]
  },
  {
   "cell_type": "code",
   "execution_count": 35,
   "metadata": {},
   "outputs": [],
   "source": [
    "with open(\"probability_of_default_model.pkl\", 'rb') as file:  \n",
    "    PD_Model = pickle.load(file)\n",
    "    \n",
    "with open(\"scaler.pkl\", 'rb') as file:  \n",
    "    scaler = pickle.load(file)"
   ]
  },
  {
   "cell_type": "code",
   "execution_count": 36,
   "metadata": {},
   "outputs": [
    {
     "data": {
      "text/plain": [
       "RandomForestClassifier(n_estimators=200)"
      ]
     },
     "execution_count": 36,
     "metadata": {},
     "output_type": "execute_result"
    }
   ],
   "source": [
    "PD_Model"
   ]
  },
  {
   "cell_type": "code",
   "execution_count": 44,
   "metadata": {},
   "outputs": [
    {
     "name": "stdout",
     "output_type": "stream",
     "text": [
      "1.0\n"
     ]
    }
   ],
   "source": [
    "pred=PD_Model.score(X_test_scaled,y_test)"
   ]
  },
  {
   "cell_type": "code",
   "execution_count": null,
   "metadata": {},
   "outputs": [],
   "source": []
  }
 ],
 "metadata": {
  "kernelspec": {
   "display_name": "Python 3",
   "language": "python",
   "name": "python3"
  },
  "language_info": {
   "codemirror_mode": {
    "name": "ipython",
    "version": 3
   },
   "file_extension": ".py",
   "mimetype": "text/x-python",
   "name": "python",
   "nbconvert_exporter": "python",
   "pygments_lexer": "ipython3",
   "version": "3.8.5"
  }
 },
 "nbformat": 4,
 "nbformat_minor": 4
}

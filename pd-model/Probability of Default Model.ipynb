{
 "cells": [
  {
   "cell_type": "code",
   "execution_count": 1,
   "metadata": {},
   "outputs": [],
   "source": [
    "import pandas as pd\n",
    "import numpy as np\n",
    "import seaborn as sns"
   ]
  },
  {
   "cell_type": "code",
   "execution_count": 2,
   "metadata": {},
   "outputs": [],
   "source": [
    "data=pd.read_csv(\"2014_Financial_Data.csv\")"
   ]
  },
  {
   "cell_type": "code",
   "execution_count": 3,
   "metadata": {},
   "outputs": [],
   "source": [
    "df = pd.DataFrame(data)"
   ]
  },
  {
   "cell_type": "code",
   "execution_count": 4,
   "metadata": {},
   "outputs": [],
   "source": [
    "df = df.interpolate()\n",
    "df_updated = df.interpolate()"
   ]
  },
  {
   "cell_type": "code",
   "execution_count": 5,
   "metadata": {},
   "outputs": [],
   "source": [
    "columnList=list(df.columns)"
   ]
  },
  {
   "cell_type": "code",
   "execution_count": 6,
   "metadata": {},
   "outputs": [
    {
     "name": "stdout",
     "output_type": "stream",
     "text": [
      "Interest Expense exists in the list\n",
      "Net Income exists in the list\n",
      "EBIT exists in the list\n",
      "Cash and cash equivalents exists in the list\n",
      "Total current assets exists in the list\n",
      "Total assets exists in the list\n",
      "Total current liabilities exists in the list\n",
      "Long-term debt exists in the list\n",
      "Total debt exists in the list\n",
      "Total liabilities exists in the list\n",
      "Total shareholders equity exists in the list\n",
      "returnOnEquity exists in the list\n",
      "Working Capital exists in the list\n",
      "Receivables Turnover exists in the list\n"
     ]
    }
   ],
   "source": [
    "usedColumnList=['Total current assets','Total current liabilities','Working Capital','Total assets','Cash and cash equivalents',\n",
    "                'Net Income','returnOnEquity','Receivables Turnover','EBIT','Total debt','Total shareholders equity',\n",
    "               'Interest Expense','Total liabilities','Total shareholders equity','Long-term debt','Total liabilities']\n",
    "\n",
    "for item in columnList:\n",
    "    if(item not in usedColumnList):\n",
    "        #df = df.drop(columns=item)\n",
    "        del df_updated[item]\n",
    "    else:\n",
    "        print(item,\"exists in the list\")"
   ]
  },
  {
   "cell_type": "code",
   "execution_count": 7,
   "metadata": {},
   "outputs": [],
   "source": [
    "#Altmans Z-Score = 1.2A + 1.4B + 3.3C + 0.6D + 1.0E\n",
    "'''\n",
    "A = working capital / total assets\n",
    "B = retained earnings / total assets\n",
    "C = earnings before interest and tax / total assets\n",
    "D = market value of equity / total liabilities\n",
    "E = sales / total assets\n",
    "'''\n",
    "\n",
    "score = 1.2*(df[\"Working Capital\"]/df[\"Total assets\"]) \n",
    "+ 1.4*(df[\"Retained earnings (deficit)\"]/df[\"Total assets\"])\n",
    "+ 3.3*(df[\"EBIT\"]/df[\"Total assets\"])\n",
    "+ 0.6*(1/df[\"Debt to Equity\"])\n",
    "+ 1.0*(df[\"assetTurnover\"])\n",
    "\n",
    "df_updated[\"PD\"] = 1/(1+np.exp(-score))"
   ]
  },
  {
   "cell_type": "code",
   "execution_count": 8,
   "metadata": {},
   "outputs": [],
   "source": [
    "\n",
    "df_indictors =pd.DataFrame()\n",
    "df_indictors[\"indicator01\"] = df['Total current assets']/df['Total current liabilities']\n",
    "df_indictors[\"indicator02\"] = df['Working Capital']/df['Total assets']\n",
    "df_indictors[\"indicator03\"] = df['Total current liabilities']/df['Total assets']\n",
    "df_indictors[\"indicator04\"] = df['Total current liabilities']/df['Total assets']\n",
    "df_indictors[\"indicator05\"] = df['Cash and cash equivalents']/df['Total current liabilities']\n",
    "df_indictors[\"indicator06\"] = df['Net Income']/df['Total assets']\n",
    "df_indictors[\"indicator07\"] = df['Net Income']/ df['returnOnEquity']\n",
    "df_indictors[\"indicator08\"] = df['Net Income'] / df['Receivables Turnover']\n",
    "df_indictors[\"indicator09\"] = df['EBIT'] / df['Total assets']\n",
    "df_indictors[\"indicator10\"] = df['Total debt'] / df['Total shareholders equity']\n",
    "df_indictors[\"indicator11\"] = df['Total debt']/ df['Total assets']\n",
    "df_indictors[\"indicator12\"] = df['EBIT'] / df['Interest Expense']\n",
    "df_indictors[\"indicator13\"] = df['Total liabilities'] / df['Total assets']\n",
    "df_indictors[\"indicator14\"] = df['Total shareholders equity'] / df['Total assets']\n",
    "df_indictors[\"indicator15\"] = df['Long-term debt'] / df['Total assets']\n",
    "df_indictors[\"indicator16\"] = df['Total debt'] / df['Total assets']\n",
    "df_indictors[\"indicator17\"] = df['Total debt'] / df['Total current assets']\n",
    "df_indictors[\"indicator18\"] = df['Total debt'] / (df['Total assets']-df['Total debt'])\n",
    "df_indictors[\"indicator19\"] = df['Total debt']  / df['Total liabilities']\n"
   ]
  },
  {
   "cell_type": "code",
   "execution_count": 9,
   "metadata": {},
   "outputs": [
    {
     "data": {
      "text/html": [
       "<div>\n",
       "<style scoped>\n",
       "    .dataframe tbody tr th:only-of-type {\n",
       "        vertical-align: middle;\n",
       "    }\n",
       "\n",
       "    .dataframe tbody tr th {\n",
       "        vertical-align: top;\n",
       "    }\n",
       "\n",
       "    .dataframe thead th {\n",
       "        text-align: right;\n",
       "    }\n",
       "</style>\n",
       "<table border=\"1\" class=\"dataframe\">\n",
       "  <thead>\n",
       "    <tr style=\"text-align: right;\">\n",
       "      <th></th>\n",
       "      <th>indicator01</th>\n",
       "      <th>indicator02</th>\n",
       "      <th>indicator03</th>\n",
       "      <th>indicator04</th>\n",
       "      <th>indicator05</th>\n",
       "      <th>indicator06</th>\n",
       "      <th>indicator07</th>\n",
       "      <th>indicator08</th>\n",
       "      <th>indicator09</th>\n",
       "      <th>indicator10</th>\n",
       "      <th>...</th>\n",
       "      <th>indicator12</th>\n",
       "      <th>indicator13</th>\n",
       "      <th>indicator14</th>\n",
       "      <th>indicator15</th>\n",
       "      <th>indicator16</th>\n",
       "      <th>indicator17</th>\n",
       "      <th>indicator18</th>\n",
       "      <th>indicator19</th>\n",
       "      <th>PD</th>\n",
       "      <th>class</th>\n",
       "    </tr>\n",
       "  </thead>\n",
       "  <tbody>\n",
       "    <tr>\n",
       "      <th>0</th>\n",
       "      <td>0.937467</td>\n",
       "      <td>-0.014619</td>\n",
       "      <td>0.233776</td>\n",
       "      <td>0.233776</td>\n",
       "      <td>0.253751</td>\n",
       "      <td>0.080705</td>\n",
       "      <td>6.996995e+10</td>\n",
       "      <td>1.008891e+09</td>\n",
       "      <td>0.105382</td>\n",
       "      <td>0.506131</td>\n",
       "      <td>...</td>\n",
       "      <td>21.442877</td>\n",
       "      <td>0.514952</td>\n",
       "      <td>0.485048</td>\n",
       "      <td>0.137323</td>\n",
       "      <td>0.245498</td>\n",
       "      <td>1.120189</td>\n",
       "      <td>0.325377</td>\n",
       "      <td>0.476740</td>\n",
       "      <td>0.495614</td>\n",
       "      <td>0</td>\n",
       "    </tr>\n",
       "    <tr>\n",
       "      <th>1</th>\n",
       "      <td>1.301829</td>\n",
       "      <td>1.120027</td>\n",
       "      <td>0.599095</td>\n",
       "      <td>0.599095</td>\n",
       "      <td>0.471789</td>\n",
       "      <td>0.049630</td>\n",
       "      <td>4.123337e+08</td>\n",
       "      <td>2.654496e+06</td>\n",
       "      <td>0.068525</td>\n",
       "      <td>1.509318</td>\n",
       "      <td>...</td>\n",
       "      <td>15.436311</td>\n",
       "      <td>0.840832</td>\n",
       "      <td>0.150677</td>\n",
       "      <td>0.227419</td>\n",
       "      <td>0.227419</td>\n",
       "      <td>0.291592</td>\n",
       "      <td>0.294362</td>\n",
       "      <td>0.270469</td>\n",
       "      <td>0.793152</td>\n",
       "      <td>1</td>\n",
       "    </tr>\n",
       "    <tr>\n",
       "      <th>2</th>\n",
       "      <td>0.824848</td>\n",
       "      <td>-0.064035</td>\n",
       "      <td>0.365595</td>\n",
       "      <td>0.365595</td>\n",
       "      <td>0.037459</td>\n",
       "      <td>0.051877</td>\n",
       "      <td>5.384615e+09</td>\n",
       "      <td>1.673024e+07</td>\n",
       "      <td>0.092654</td>\n",
       "      <td>2.100669</td>\n",
       "      <td>...</td>\n",
       "      <td>6.124153</td>\n",
       "      <td>0.815751</td>\n",
       "      <td>0.183874</td>\n",
       "      <td>0.329668</td>\n",
       "      <td>0.386257</td>\n",
       "      <td>1.280861</td>\n",
       "      <td>0.629347</td>\n",
       "      <td>0.473499</td>\n",
       "      <td>0.480799</td>\n",
       "      <td>0</td>\n",
       "    </tr>\n",
       "    <tr>\n",
       "      <th>3</th>\n",
       "      <td>1.708956</td>\n",
       "      <td>0.255969</td>\n",
       "      <td>0.361051</td>\n",
       "      <td>0.361051</td>\n",
       "      <td>0.058388</td>\n",
       "      <td>0.035913</td>\n",
       "      <td>-2.113678e+09</td>\n",
       "      <td>9.177426e+06</td>\n",
       "      <td>0.097167</td>\n",
       "      <td>-2.723725</td>\n",
       "      <td>...</td>\n",
       "      <td>1.589315</td>\n",
       "      <td>1.304354</td>\n",
       "      <td>-0.304354</td>\n",
       "      <td>0.821897</td>\n",
       "      <td>0.828978</td>\n",
       "      <td>1.343518</td>\n",
       "      <td>4.847190</td>\n",
       "      <td>0.635546</td>\n",
       "      <td>0.576193</td>\n",
       "      <td>1</td>\n",
       "    </tr>\n",
       "    <tr>\n",
       "      <th>4</th>\n",
       "      <td>0.810086</td>\n",
       "      <td>-0.044501</td>\n",
       "      <td>0.234320</td>\n",
       "      <td>0.234320</td>\n",
       "      <td>0.159915</td>\n",
       "      <td>0.078822</td>\n",
       "      <td>6.534384e+09</td>\n",
       "      <td>1.492352e+08</td>\n",
       "      <td>0.130050</td>\n",
       "      <td>1.344463</td>\n",
       "      <td>...</td>\n",
       "      <td>9.954034</td>\n",
       "      <td>0.654817</td>\n",
       "      <td>0.282333</td>\n",
       "      <td>0.277525</td>\n",
       "      <td>0.379587</td>\n",
       "      <td>1.999727</td>\n",
       "      <td>0.611829</td>\n",
       "      <td>0.579684</td>\n",
       "      <td>0.486653</td>\n",
       "      <td>0</td>\n",
       "    </tr>\n",
       "    <tr>\n",
       "      <th>...</th>\n",
       "      <td>...</td>\n",
       "      <td>...</td>\n",
       "      <td>...</td>\n",
       "      <td>...</td>\n",
       "      <td>...</td>\n",
       "      <td>...</td>\n",
       "      <td>...</td>\n",
       "      <td>...</td>\n",
       "      <td>...</td>\n",
       "      <td>...</td>\n",
       "      <td>...</td>\n",
       "      <td>...</td>\n",
       "      <td>...</td>\n",
       "      <td>...</td>\n",
       "      <td>...</td>\n",
       "      <td>...</td>\n",
       "      <td>...</td>\n",
       "      <td>...</td>\n",
       "      <td>...</td>\n",
       "      <td>...</td>\n",
       "      <td>...</td>\n",
       "    </tr>\n",
       "    <tr>\n",
       "      <th>3798</th>\n",
       "      <td>2.742925</td>\n",
       "      <td>0.459555</td>\n",
       "      <td>0.263669</td>\n",
       "      <td>0.263669</td>\n",
       "      <td>0.448294</td>\n",
       "      <td>-0.088693</td>\n",
       "      <td>2.088176e+07</td>\n",
       "      <td>-5.438886e+05</td>\n",
       "      <td>-0.133125</td>\n",
       "      <td>0.221264</td>\n",
       "      <td>...</td>\n",
       "      <td>-99.829787</td>\n",
       "      <td>0.407576</td>\n",
       "      <td>0.592424</td>\n",
       "      <td>0.115534</td>\n",
       "      <td>0.131082</td>\n",
       "      <td>0.181248</td>\n",
       "      <td>0.150857</td>\n",
       "      <td>0.321615</td>\n",
       "      <td>0.634476</td>\n",
       "      <td>1</td>\n",
       "    </tr>\n",
       "    <tr>\n",
       "      <th>3799</th>\n",
       "      <td>2.905459</td>\n",
       "      <td>0.517342</td>\n",
       "      <td>0.271505</td>\n",
       "      <td>0.271505</td>\n",
       "      <td>0.324927</td>\n",
       "      <td>-0.068214</td>\n",
       "      <td>2.540399e+07</td>\n",
       "      <td>-5.089235e+05</td>\n",
       "      <td>-0.106872</td>\n",
       "      <td>0.000000</td>\n",
       "      <td>...</td>\n",
       "      <td>-62.180328</td>\n",
       "      <td>0.284495</td>\n",
       "      <td>0.715505</td>\n",
       "      <td>0.000000</td>\n",
       "      <td>0.000000</td>\n",
       "      <td>0.000000</td>\n",
       "      <td>0.000000</td>\n",
       "      <td>0.000000</td>\n",
       "      <td>0.650403</td>\n",
       "      <td>1</td>\n",
       "    </tr>\n",
       "    <tr>\n",
       "      <th>3800</th>\n",
       "      <td>11.106514</td>\n",
       "      <td>0.640466</td>\n",
       "      <td>0.063372</td>\n",
       "      <td>0.063372</td>\n",
       "      <td>3.054577</td>\n",
       "      <td>-0.062870</td>\n",
       "      <td>1.567455e+07</td>\n",
       "      <td>-1.011089e+05</td>\n",
       "      <td>-0.059746</td>\n",
       "      <td>0.095663</td>\n",
       "      <td>...</td>\n",
       "      <td>-20.207547</td>\n",
       "      <td>0.119157</td>\n",
       "      <td>0.874707</td>\n",
       "      <td>0.055785</td>\n",
       "      <td>0.083677</td>\n",
       "      <td>0.118887</td>\n",
       "      <td>0.091319</td>\n",
       "      <td>0.702247</td>\n",
       "      <td>0.683209</td>\n",
       "      <td>1</td>\n",
       "    </tr>\n",
       "    <tr>\n",
       "      <th>3802</th>\n",
       "      <td>1.842462</td>\n",
       "      <td>0.216691</td>\n",
       "      <td>0.257211</td>\n",
       "      <td>0.257211</td>\n",
       "      <td>0.001660</td>\n",
       "      <td>0.073950</td>\n",
       "      <td>3.009063e+07</td>\n",
       "      <td>5.570314e+05</td>\n",
       "      <td>0.124457</td>\n",
       "      <td>0.252402</td>\n",
       "      <td>...</td>\n",
       "      <td>25.888031</td>\n",
       "      <td>0.441604</td>\n",
       "      <td>0.558396</td>\n",
       "      <td>0.140940</td>\n",
       "      <td>0.140940</td>\n",
       "      <td>0.297403</td>\n",
       "      <td>0.164063</td>\n",
       "      <td>0.319154</td>\n",
       "      <td>0.564643</td>\n",
       "      <td>1</td>\n",
       "    </tr>\n",
       "    <tr>\n",
       "      <th>3806</th>\n",
       "      <td>1.562331</td>\n",
       "      <td>0.328076</td>\n",
       "      <td>0.583422</td>\n",
       "      <td>0.583422</td>\n",
       "      <td>0.417295</td>\n",
       "      <td>0.060644</td>\n",
       "      <td>3.956044e+07</td>\n",
       "      <td>1.176855e+06</td>\n",
       "      <td>0.087239</td>\n",
       "      <td>0.000000</td>\n",
       "      <td>...</td>\n",
       "      <td>-17.555085</td>\n",
       "      <td>0.583422</td>\n",
       "      <td>0.416578</td>\n",
       "      <td>0.000000</td>\n",
       "      <td>0.000000</td>\n",
       "      <td>0.000000</td>\n",
       "      <td>0.000000</td>\n",
       "      <td>0.000000</td>\n",
       "      <td>0.597171</td>\n",
       "      <td>1</td>\n",
       "    </tr>\n",
       "  </tbody>\n",
       "</table>\n",
       "<p>2615 rows × 21 columns</p>\n",
       "</div>"
      ],
      "text/plain": [
       "      indicator01  indicator02  indicator03  indicator04  indicator05  \\\n",
       "0        0.937467    -0.014619     0.233776     0.233776     0.253751   \n",
       "1        1.301829     1.120027     0.599095     0.599095     0.471789   \n",
       "2        0.824848    -0.064035     0.365595     0.365595     0.037459   \n",
       "3        1.708956     0.255969     0.361051     0.361051     0.058388   \n",
       "4        0.810086    -0.044501     0.234320     0.234320     0.159915   \n",
       "...           ...          ...          ...          ...          ...   \n",
       "3798     2.742925     0.459555     0.263669     0.263669     0.448294   \n",
       "3799     2.905459     0.517342     0.271505     0.271505     0.324927   \n",
       "3800    11.106514     0.640466     0.063372     0.063372     3.054577   \n",
       "3802     1.842462     0.216691     0.257211     0.257211     0.001660   \n",
       "3806     1.562331     0.328076     0.583422     0.583422     0.417295   \n",
       "\n",
       "      indicator06   indicator07   indicator08  indicator09  indicator10  ...  \\\n",
       "0        0.080705  6.996995e+10  1.008891e+09     0.105382     0.506131  ...   \n",
       "1        0.049630  4.123337e+08  2.654496e+06     0.068525     1.509318  ...   \n",
       "2        0.051877  5.384615e+09  1.673024e+07     0.092654     2.100669  ...   \n",
       "3        0.035913 -2.113678e+09  9.177426e+06     0.097167    -2.723725  ...   \n",
       "4        0.078822  6.534384e+09  1.492352e+08     0.130050     1.344463  ...   \n",
       "...           ...           ...           ...          ...          ...  ...   \n",
       "3798    -0.088693  2.088176e+07 -5.438886e+05    -0.133125     0.221264  ...   \n",
       "3799    -0.068214  2.540399e+07 -5.089235e+05    -0.106872     0.000000  ...   \n",
       "3800    -0.062870  1.567455e+07 -1.011089e+05    -0.059746     0.095663  ...   \n",
       "3802     0.073950  3.009063e+07  5.570314e+05     0.124457     0.252402  ...   \n",
       "3806     0.060644  3.956044e+07  1.176855e+06     0.087239     0.000000  ...   \n",
       "\n",
       "      indicator12  indicator13  indicator14  indicator15  indicator16  \\\n",
       "0       21.442877     0.514952     0.485048     0.137323     0.245498   \n",
       "1       15.436311     0.840832     0.150677     0.227419     0.227419   \n",
       "2        6.124153     0.815751     0.183874     0.329668     0.386257   \n",
       "3        1.589315     1.304354    -0.304354     0.821897     0.828978   \n",
       "4        9.954034     0.654817     0.282333     0.277525     0.379587   \n",
       "...           ...          ...          ...          ...          ...   \n",
       "3798   -99.829787     0.407576     0.592424     0.115534     0.131082   \n",
       "3799   -62.180328     0.284495     0.715505     0.000000     0.000000   \n",
       "3800   -20.207547     0.119157     0.874707     0.055785     0.083677   \n",
       "3802    25.888031     0.441604     0.558396     0.140940     0.140940   \n",
       "3806   -17.555085     0.583422     0.416578     0.000000     0.000000   \n",
       "\n",
       "      indicator17  indicator18  indicator19        PD  class  \n",
       "0        1.120189     0.325377     0.476740  0.495614      0  \n",
       "1        0.291592     0.294362     0.270469  0.793152      1  \n",
       "2        1.280861     0.629347     0.473499  0.480799      0  \n",
       "3        1.343518     4.847190     0.635546  0.576193      1  \n",
       "4        1.999727     0.611829     0.579684  0.486653      0  \n",
       "...           ...          ...          ...       ...    ...  \n",
       "3798     0.181248     0.150857     0.321615  0.634476      1  \n",
       "3799     0.000000     0.000000     0.000000  0.650403      1  \n",
       "3800     0.118887     0.091319     0.702247  0.683209      1  \n",
       "3802     0.297403     0.164063     0.319154  0.564643      1  \n",
       "3806     0.000000     0.000000     0.000000  0.597171      1  \n",
       "\n",
       "[2615 rows x 21 columns]"
      ]
     },
     "execution_count": 9,
     "metadata": {},
     "output_type": "execute_result"
    }
   ],
   "source": [
    "df_indictors = df_indictors[np.isfinite(df_indictors).all(1)]\n",
    "score = 1.2*(df[\"Working Capital\"]/df[\"Total assets\"]) \n",
    "+ 1.4*(df[\"Retained earnings (deficit)\"]/df[\"Total assets\"])\n",
    "+ 3.3*(df[\"EBIT\"]/df[\"Total assets\"])\n",
    "+ 0.6*(1/df[\"Debt to Equity\"])\n",
    "+ 1.0*(df[\"assetTurnover\"])\n",
    "\n",
    "df_indictors[\"PD\"] = 1/(1+np.exp(-score))\n",
    "\n",
    "df_indictors.loc[df_indictors['PD'] >0.5, 'class'] = '1' \n",
    "df_indictors.loc[df_indictors['PD'] <=0.5, 'class'] = '0'\n",
    "df_indictors"
   ]
  },
  {
   "cell_type": "code",
   "execution_count": 10,
   "metadata": {},
   "outputs": [],
   "source": [
    "import matplotlib.pyplot as plt "
   ]
  },
  {
   "cell_type": "code",
   "execution_count": 11,
   "metadata": {},
   "outputs": [
    {
     "data": {
      "image/png": "[encoded data removed]",
      "text/plain": [
       "<Figure size 576x864 with 2 Axes>"
      ]
     },
     "metadata": {
      "needs_background": "light"
     },
     "output_type": "display_data"
    }
   ],
   "source": [
    "plt.figure(figsize=(8, 12))\n",
    "\n",
    "heatmap = sns.heatmap(df_indictors.corr()[['PD']].sort_values(by='PD', ascending=False), vmin=-1, vmax=1, annot=True, cmap='BrBG')\n",
    "\n",
    "heatmap.set_title('Features Correlating with PD', fontdict={'fontsize':18}, pad=16);"
   ]
  },
  {
   "cell_type": "code",
   "execution_count": 54,
   "metadata": {},
   "outputs": [],
   "source": [
    "from sklearn.model_selection import train_test_split\n",
    "\n",
    "Y = df_indictors[\"class\"]\n",
    "X = df_indictors.drop([\"class\",\"PD\"], axis=1)\n",
    "\n",
    "X_train, X_test, y_train, y_test = train_test_split(X, Y, test_size=0.3)"
   ]
  },
  {
   "cell_type": "code",
   "execution_count": 55,
   "metadata": {},
   "outputs": [],
   "source": [
    "from sklearn.preprocessing import StandardScaler"
   ]
  },
  {
   "cell_type": "code",
   "execution_count": 56,
   "metadata": {},
   "outputs": [],
   "source": [
    "X_scaler = StandardScaler().fit(X_train)"
   ]
  },
  {
   "cell_type": "code",
   "execution_count": 61,
   "metadata": {},
   "outputs": [],
   "source": [
    "X_train_scaled = X_scaler.transform(X_train)\n",
    "X_test_scaled = X_scaler.transform(X_test)"
   ]
  },
  {
   "cell_type": "code",
   "execution_count": 62,
   "metadata": {},
   "outputs": [],
   "source": [
    "from sklearn.ensemble import RandomForestClassifier"
   ]
  },
  {
   "cell_type": "code",
   "execution_count": 63,
   "metadata": {},
   "outputs": [
    {
     "data": {
      "text/plain": [
       "RandomForestClassifier(n_estimators=200)"
      ]
     },
     "execution_count": 63,
     "metadata": {},
     "output_type": "execute_result"
    }
   ],
   "source": [
    "rf = RandomForestClassifier(n_estimators=200)\n",
    "rf.fit(X_train_scaled,y_train)"
   ]
  },
  {
   "cell_type": "code",
   "execution_count": 64,
   "metadata": {},
   "outputs": [],
   "source": [
    "features_names = df_indictors.columns"
   ]
  },
  {
   "cell_type": "code",
   "execution_count": 65,
   "metadata": {},
   "outputs": [
    {
     "data": {
      "text/plain": [
       "[(0.48578305009641504, 'indicator02'),\n",
       " (0.3457354302618945, 'indicator01'),\n",
       " (0.038919971633035275, 'indicator17'),\n",
       " (0.023942879821629178, 'indicator05'),\n",
       " (0.014125086040766427, 'indicator04'),\n",
       " (0.012735977265703111, 'indicator03'),\n",
       " (0.010436179211384407, 'indicator13'),\n",
       " (0.008483108523283982, 'indicator07'),\n",
       " (0.008310592253773976, 'indicator10'),\n",
       " (0.007957365834181433, 'indicator11'),\n",
       " (0.0078032952289329716, 'indicator14'),\n",
       " (0.0061704370028344375, 'indicator19'),\n",
       " (0.005200643539314369, 'indicator16'),\n",
       " (0.004773297297150435, 'indicator15'),\n",
       " (0.0044182431245083625, 'indicator06'),\n",
       " (0.0041361820233265095, 'indicator12'),\n",
       " (0.003793657763213378, 'indicator09'),\n",
       " (0.0036685316246180284, 'indicator18'),\n",
       " (0.003606071454034163, 'indicator08')]"
      ]
     },
     "execution_count": 65,
     "metadata": {},
     "output_type": "execute_result"
    }
   ],
   "source": [
    "sorted(zip(rf.feature_importances_, features_names), reverse=True) "
   ]
  },
  {
   "cell_type": "code",
   "execution_count": 66,
   "metadata": {},
   "outputs": [
    {
     "data": {
      "image/png": "[encoded data removed]",
      "text/plain": [
       "<Figure size 864x432 with 1 Axes>"
      ]
     },
     "metadata": {
      "needs_background": "light"
     },
     "output_type": "display_data"
    }
   ],
   "source": [
    "## plot the importances ##\n",
    "import matplotlib.pyplot as plt\n",
    "importances = rf.feature_importances_\n",
    "\n",
    "\n",
    "indices = np.argsort(importances)[::-1]\n",
    "plt.figure(figsize=(12,6))\n",
    "plt.title(\"Feature importances by DecisionTreeClassifier\")\n",
    "plt.bar(range(len(indices)), importances[indices], color='lightblue',  align=\"center\")\n",
    "plt.step(range(len(indices)), np.cumsum(importances[indices]), where='mid', label='Cumulative')\n",
    "plt.xticks(range(len(indices)), features_names[indices], rotation='vertical',fontsize=14)\n",
    "plt.xlim([-1, len(indices)])\n",
    "plt.show()"
   ]
  },
  {
   "cell_type": "code",
   "execution_count": 67,
   "metadata": {},
   "outputs": [],
   "source": [
    "from sklearn.metrics import precision_recall_fscore_support\n",
    "from sklearn.metrics import recall_score\n",
    "from sklearn.metrics import classification_report"
   ]
  },
  {
   "cell_type": "code",
   "execution_count": 68,
   "metadata": {},
   "outputs": [
    {
     "data": {
      "text/plain": [
       "0.855"
      ]
     },
     "execution_count": 68,
     "metadata": {},
     "output_type": "execute_result"
    }
   ],
   "source": [
    "#Make my predictions\n",
    "y_prediction = rf.predict(X_test)\n",
    "y_probability = rf.predict_proba(X_test)\n",
    "y_probability[0][1]"
   ]
  },
  {
   "cell_type": "code",
   "execution_count": 69,
   "metadata": {},
   "outputs": [
    {
     "name": "stdout",
     "output_type": "stream",
     "text": [
      "              precision    recall  f1-score   support\n",
      "\n",
      " non_default       1.00      0.41      0.58       131\n",
      "     default       0.89      1.00      0.94       654\n",
      "\n",
      "    accuracy                           0.90       785\n",
      "   macro avg       0.95      0.71      0.76       785\n",
      "weighted avg       0.91      0.90      0.88       785\n",
      "\n"
     ]
    }
   ],
   "source": [
    "print(classification_report(y_test, y_prediction,\n",
    "                            target_names=[\"non_default\", \"default\"]))"
   ]
  },
  {
   "cell_type": "code",
   "execution_count": 70,
   "metadata": {},
   "outputs": [],
   "source": [
    "from sklearn.metrics import confusion_matrix\n",
    "import itertools\n",
    "import matplotlib\n",
    "import numpy as np\n",
    "import matplotlib.pyplot as plt\n",
    "%matplotlib inline  \n",
    "import numpy as np"
   ]
  },
  {
   "cell_type": "code",
   "execution_count": 71,
   "metadata": {},
   "outputs": [],
   "source": [
    "def plot_confusion_matrix(cm, classes,\n",
    "                          normalize=False,\n",
    "                          title='Confusion matrix',\n",
    "                          cmap=plt.cm.Blues):\n",
    "    if normalize:\n",
    "        cm = cm.astype('float') / cm.sum(axis=1)[:, np.newaxis]\n",
    "        print(\"Normalized confusion matrix\")\n",
    "    else:\n",
    "        print('Confusion matrix, without normalization')\n",
    "\n",
    "    print(cm)\n",
    "    \n",
    "    plt.imshow(cm, interpolation='nearest', cmap=cmap)\n",
    "    plt.title(title)\n",
    "    plt.colorbar()\n",
    "    tick_marks = np.arange(len(classes))\n",
    "    plt.xticks(tick_marks, classes, rotation=45)\n",
    "    plt.yticks(tick_marks, classes)\n",
    "\n",
    "    fmt = '.2f' if normalize else 'd'\n",
    "    thresh = cm.max() / 2.\n",
    "    for i, j in itertools.product(range(cm.shape[0]), range(cm.shape[1])):\n",
    "        plt.text(j, i, format(cm[i, j], fmt),\n",
    "                 horizontalalignment=\"center\",\n",
    "                 color=\"white\" if cm[i, j] > thresh else \"black\")\n",
    "    "
   ]
  },
  {
   "cell_type": "code",
   "execution_count": 72,
   "metadata": {},
   "outputs": [
    {
     "name": "stdout",
     "output_type": "stream",
     "text": [
      "Confusion matrix, without normalization\n",
      "[[ 54  77]\n",
      " [  0 654]]\n"
     ]
    },
    {
     "data": {
      "image/png": "[encoded data removed]",
      "text/plain": [
       "<Figure size 432x288 with 2 Axes>"
      ]
     },
     "metadata": {
      "needs_background": "light"
     },
     "output_type": "display_data"
    }
   ],
   "source": [
    "cnf_matrix = confusion_matrix(y_test, y_prediction)\n",
    "plt.figure()\n",
    "plot_confusion_matrix(cnf_matrix, classes=['Non_Default', 'Default'], normalize=False,\n",
    "                      title='Non Normalized confusion matrix')"
   ]
  },
  {
   "cell_type": "code",
   "execution_count": 74,
   "metadata": {},
   "outputs": [
    {
     "name": "stdout",
     "output_type": "stream",
     "text": [
      "Normalized confusion matrix\n",
      "[[0.41221374 0.58778626]\n",
      " [0.         1.        ]]\n"
     ]
    },
    {
     "data": {
      "image/png": "[encoded data removed]",
      "text/plain": [
       "<Figure size 432x288 with 2 Axes>"
      ]
     },
     "metadata": {
      "needs_background": "light"
     },
     "output_type": "display_data"
    }
   ],
   "source": [
    "plt.figure()\n",
    "plot_confusion_matrix(cnf_matrix, classes=['Defualt', 'Non_default'], normalize=True,\n",
    "                      title='Normalized confusion matrix')"
   ]
  },
  {
   "cell_type": "code",
   "execution_count": 75,
   "metadata": {},
   "outputs": [],
   "source": [
    "import pickle\n",
    "filename = 'probability_of_default_model..sav'\n",
    "pickle.dump(rf, open(filename, 'wb'))"
   ]
  },
  {
   "cell_type": "code",
   "execution_count": 77,
   "metadata": {},
   "outputs": [
    {
     "ename": "ModuleNotFoundError",
     "evalue": "No module named 'qiskit'",
     "output_type": "error",
     "traceback": [
      "\u001b[1;31m---------------------------------------------------------------------------\u001b[0m",
      "\u001b[1;31mModuleNotFoundError\u001b[0m                       Traceback (most recent call last)",
      "\u001b[1;32m<ipython-input-77-578b7f7e9727>\u001b[0m in \u001b[0;36m<module>\u001b[1;34m\u001b[0m\n\u001b[1;32m----> 1\u001b[1;33m \u001b[1;32mimport\u001b[0m \u001b[0mqiskit\u001b[0m\u001b[1;33m\u001b[0m\u001b[1;33m\u001b[0m\u001b[0m\n\u001b[0m",
      "\u001b[1;31mModuleNotFoundError\u001b[0m: No module named 'qiskit'"
     ]
    }
   ],
   "source": []
  },
  {
   "cell_type": "code",
   "execution_count": null,
   "metadata": {},
   "outputs": [],
   "source": []
  }
 ],
 "metadata": {
  "kernelspec": {
   "display_name": "Python 3",
   "language": "python",
   "name": "python3"
  },
  "language_info": {
   "codemirror_mode": {
    "name": "ipython",
    "version": 3
   },
   "file_extension": ".py",
   "mimetype": "text/x-python",
   "name": "python",
   "nbconvert_exporter": "python",
   "pygments_lexer": "ipython3",
   "version": "3.8.5"
  }
 },
 "nbformat": 4,
 "nbformat_minor": 4
}
